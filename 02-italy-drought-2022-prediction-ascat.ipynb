{
 "cells": [
  {
   "cell_type": "markdown",
   "metadata": {},
   "source": [
    "<img src=\"https://www.climatechangewriters.com/images/2023/03/27/CCW9893490890_large.jpg\" style=\"width:50%; display: block; margin-left: auto; margin-right: auto\">\n",
    "<table style=\"width:50%\">\n",
    "    <tr>\n",
    "        <th><img src=\"data:image/png;base64,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\"></th>\n",
    "        <th><img src=\"https://eodc.eu/wp-content/uploads/2018/10/EODC-Logo-Final.png\"></th>\n",
    "    </tr>\n",
    "</table>"
   ]
  },
  {
   "cell_type": "markdown",
   "metadata": {},
   "source": [
    "# DestinE Data Lake\n",
    "\n",
    "The Destination Earth Data Lake (DEDL) combines such disparate data sources in one large virtual database. Moreover, this virtual database comes with a set of tools that facilitates the search for relevant resources as well as the analysis of data by performing computationally expensive operations near to the data source.\n",
    "\n",
    "This Jupyter Notebook serves as an example of how the DEDL service can help design water management plans to prepare Italian socio-economic systems for prolonged periods of droughts. These conditions will become more prevalent under globally increasing temperatures.\n",
    "\n",
    "## Infrastructure setup\n",
    "<img src=\"./DEDL-Drought-UC2a-setup.jpg\" style=\"width:75%; display: block; margin-left: auto; margin-right: auto\">\n",
    "\n",
    "### Create Dask Clusters on Central Site and Bridge\n",
    "Make use of DEDL client library to create Dask cluster on each site registered in the DEDL.\n",
    "Default settings are:\n",
    "- Docker image used for Dask scheduler and workers\n",
    "- worker CPU and memory\n",
    "- enabled autoscaling"
   ]
  },
  {
   "attachments": {},
   "cell_type": "markdown",
   "metadata": {},
   "source": [
    "# Use Case 2a: Italy Drought 2022 - MetOp ASCAT\n",
    "\n",
    "After an unusually dry winter, a water management expert is consulted to assess the impact to communal and agricultural water supplies in italy at the end of March 2022.\n",
    "\n",
    "In case of prolonged absence of rain the expert would require information to prepare a national drought plan. This information should encompass current and future drought intensity as well as a measure of the impact of drought on critical sectors, such as agriculture, industry, and public water. The drought impact per sector is required to estabelish sector-specific mitigating measures that depend on a range of scenarios ranging from ameliorating conditions to severe drought predicted in the forseeable future."
   ]
  },
  {
   "cell_type": "code",
   "execution_count": null,
   "metadata": {},
   "outputs": [],
   "source": [
    "from dedl.services.stack import DaskCluster\n",
    "from dask_gateway import Gateway\n",
    "\n",
    "mycluster = DaskCluster(name=\"DEDLdemo\")\n",
    "user_auth = mycluster.login(username=\"christoph\")\n",
    "mycluster.create_cluster(authobj=user_auth)\n",
    "mycluster.get_cluster_url()"
   ]
  },
  {
   "attachments": {},
   "cell_type": "markdown",
   "metadata": {},
   "source": [
    "## Access Data from DEDL Service\n",
    "\n",
    "Using the DEDL package, data can be accessed from various services. In this example, data is retrieved from the European Organisation for the Exploitation of Meteorological Satellites (EUMETSAT) Data Store, the Copernicus Land Monitoring service (CLMS), and the European Centre for Medium-Range Weather Forecasts (ECMWF).\n",
    "\n",
    "- The EUMETSAT Data Store enables access to **soil moisture data** as part of the Operational **Hydrology and water management (HSAF)** unit. The data consists of microwave images obtained by the the Advanced Scatterometer (ASCAT) satallite. Microwave imaging is a technique that is relatively unaffected by cloud cover and is especially sensitive to variations in near surface water content ($0 {-} 2\\,\\text{cm}$). This dataset is used to evaluate drought severeness at the beginning of March 2022.\n",
    "- The CLMS is queried for the **CORINE ('Coordination of information on the environment') Land Cover inventory**. The original purpose of this data set serves environmental policy development and consists of 44 classes of land cover in five main units (artificial, agriculture, forests and semi-natural, wetlands, and water). It combines a number of sources, among which Landsat-5, Landsat-7, and ESA Sentinal-2 satallite imaging data in the most recent years. This dataset will highlight which sectors will be most likely drought impacted under the predicted scenario. \n",
    "- The ECMWF catalogue is used to obtain the multi-decadal **ERA5-Land dataset**. This product is a reanalysis dataset that gives insight in the seasonal variation of land variables by averaging data over multiple decades with a 9km spatial resolution. The ERA5-Land data is retrieved to estimate the development of drought over the months following the 30<sup>th</sup> of March 2022. This dataset is for demonstration purposes only, and will be replaced with a high resolution soil moisture prediction dataset in the future."
   ]
  },
  {
   "cell_type": "code",
   "execution_count": null,
   "metadata": {},
   "outputs": [],
   "source": [
    "import dask\n",
    "import xarray as xr\n",
    "from dedl.services import discovery\n",
    "from usecase.parameters import Extent\n",
    "from datetime import datetime\n",
    "\n",
    "start_drought = datetime(2022, 3, 1)\n",
    "end_drought = datetime(2022, 8, 31)\n",
    "\n",
    "xr.set_options(keep_attrs=True)\n",
    "drought_roi = Extent(6.15, 46.90, 19.60, 35.64, crs='EPSG:4326')    # Italy BBOX"
   ]
  },
  {
   "cell_type": "markdown",
   "metadata": {},
   "source": [
    "### Login to DEDL storage service at central site and bridge"
   ]
  },
  {
   "cell_type": "code",
   "execution_count": null,
   "metadata": {},
   "outputs": [],
   "source": [
    "central_site_da = discovery.S3DataAccess(\"https://s3.dedl-centralsite.eodc.eu\")"
   ]
  },
  {
   "cell_type": "code",
   "execution_count": null,
   "metadata": {},
   "outputs": [],
   "source": [
    "bridge_site_da = discovery.S3DataAccess(\"https://s3.dedl-bridge.eodc.eu\")"
   ]
  },
  {
   "attachments": {},
   "cell_type": "markdown",
   "metadata": {},
   "source": [
    "### ASCAT Soil Moisture"
   ]
  },
  {
   "cell_type": "code",
   "execution_count": null,
   "metadata": {},
   "outputs": [],
   "source": [
    "sm_sat_italy_summer_22 = discovery.find_ascat_sm(startdate=start_drought, enddate=end_drought, extent=drought_roi, S3Access=central_site_da)\n",
    "sm_sat_italy_summer_22"
   ]
  },
  {
   "cell_type": "markdown",
   "metadata": {},
   "source": [
    "### Predicated Soil Moisture"
   ]
  },
  {
   "cell_type": "code",
   "execution_count": null,
   "metadata": {},
   "outputs": [],
   "source": [
    "sm_mdl_22 = discovery.find_predicted_sm(startdate=start_drought, enddate=end_drought, extent=drought_roi, S3Access=bridge_site_da)\n",
    "sm_mdl_22"
   ]
  },
  {
   "cell_type": "markdown",
   "metadata": {},
   "source": [
    "### Corine LandCover"
   ]
  },
  {
   "cell_type": "code",
   "execution_count": null,
   "metadata": {},
   "outputs": [],
   "source": [
    "corine_italy = discovery.find_corine_LC(extent=drought_roi, S3Access=central_site_da)\n",
    "corine_italy"
   ]
  },
  {
   "attachments": {},
   "cell_type": "markdown",
   "metadata": {},
   "source": [
    "## Preprocess the Data\n",
    "\n",
    "The raw data requires preprocessing to be able to extract relevant information. \n",
    "\n",
    "This task is, however, computationally demanding and requires specialized IT infrastructure. The DEDL services are designed to cope with these computational limitations at the user's side by implementing distributed computation capabilities. This feature runs the task near to the source of the data. The user can therefore execute the script as if they would have performed it on their own local device (laptop, pc, or tablet). However, in reality, the computationally demanding tasks are executed at the high-performance computing facilities of DEDL. The DEDL services lower these barriers by performing these processing step close at the source of the data. Besides delegating computational intense processes to dedicated high performance clusters, this prevents redundant data transfer that cause further slowdown of the workflow. Combined, this toolchain provides an optimal user experience uninhibited by the user's hardware."
   ]
  },
  {
   "cell_type": "code",
   "execution_count": null,
   "metadata": {},
   "outputs": [],
   "source": [
    "from rasterio.enums import Resampling\n",
    "\n",
    "\n",
    "def normalize(da: xr.DataArray) -> xr.DataArray:\n",
    "        da_min = da.min()\n",
    "        return (da - da_min) / (da.max() - da_min)\n",
    "\n",
    "def clip_dataset_to_shape_file(ds, clip_shape_file):\n",
    "    import geopandas as gpd\n",
    "    clip_shape = gpd.read_file(clip_shape_file)\n",
    "    ds = ds.rio.clip(clip_shape.geometry.apply(mapping), clip_shape.crs, drop=False, invert=False)\n",
    "    return ds"
   ]
  },
  {
   "cell_type": "markdown",
   "metadata": {},
   "source": [
    "#### load 4D MED catchment from user workspace for clipping"
   ]
  },
  {
   "cell_type": "code",
   "execution_count": null,
   "metadata": {},
   "outputs": [],
   "source": [
    "import s3fs\n",
    "import fsspec\n",
    "import geopandas as gpd\n",
    "\n",
    "s3_user = s3fs.S3FileSystem(anon=False,\n",
    "                            key=central_site_da.key,\n",
    "                            secret=central_site_da.secret,\n",
    "                            use_ssl=True,\n",
    "                            client_kwargs={\"endpoint_url\": central_site_da.location_url})\n",
    "\n",
    "catchment_file = s3_user.open(\"dedl-user/4dmed_catchment/catch_med.geojson\", 'rb')\n",
    "\n",
    "catchment_df = gpd.read_file(catchment_file)\n",
    "catchment_df"
   ]
  },
  {
   "cell_type": "markdown",
   "metadata": {},
   "source": [
    "#### ASCAT (local execution)"
   ]
  },
  {
   "cell_type": "code",
   "execution_count": null,
   "metadata": {},
   "outputs": [],
   "source": [
    "def preprocess_ascat_sm(sm: xr.DataArray, shpfile) -> xr.DataArray:\n",
    "    import numpy as np\n",
    "    from pyresample import geometry, kd_tree\n",
    "    from affine import Affine\n",
    "\n",
    "    def clip_dataset_to_extent(ds, geodf):\n",
    "        roi_extent = geodf.total_bounds\n",
    "        mask_lon = (ds.x >= roi_extent[0]) & (ds.x <= roi_extent[2])\n",
    "        mask_lat = (ds.y >= roi_extent[1]) & (ds.y <= roi_extent[3])\n",
    "        return ds.where(mask_lon & mask_lat, drop=True)\n",
    "    \n",
    "    sm.rio.write_nodata(np.nan, inplace=True)\n",
    "    sm_mm = sm.resample(time='10D').mean('time')\n",
    "    e7proj = \"+proj=aeqd +lat_0=53 +lon_0=24 +x_0=5837287.81977 +y_0=2121415.69617 +datum=WGS84 +units=m +no_defs\"\n",
    "    geo_trans = [4200000, 200000, 5500000, 1500000]\n",
    "    area_def = geometry.AreaDefinition(\"e7\", \"\", \"\", e7proj,\n",
    "                                       200, 200, geo_trans)\n",
    "    swath_def = geometry.SwathDefinition(lons=sm_mm.lon.values, lats=sm_mm.lat.values)\n",
    "    sm_area = xr.DataArray(np.full((200, 200, sm_mm.sizes['time']), np.nan, np.float32), {\n",
    "        'time': sm_mm.time.values,\n",
    "        'y': np.arange(1500000, 200000, -6500),\n",
    "        'x': np.arange(4200000, 5500000, 6500)\n",
    "    }, ['y', 'x', 'time'])\n",
    "    sm_area.values = kd_tree.resample_nearest(swath_def, sm_mm.values, area_def,\n",
    "                                              radius_of_influence=5000, fill_value=np.nan)\n",
    "    sm_area = sm_area.transpose('time', 'y', 'x')\n",
    "    sm_area = normalize(sm_area)\n",
    "    sm_area.rio.write_crs(e7proj, inplace=True)\n",
    "    sm_area.rio.write_transform(Affine.from_gdal(4200000, -6500, 0, 1500000, 0, 6500), inplace=True)\n",
    "    sm_area.rio.write_nodata(np.nan, inplace=True)\n",
    "    sm_area = sm_area.rio.reproject('EPSG:3857', resampling=Resampling.bilinear)\n",
    "    #sm_area = clip_dataset_to_extent(sm_area, shpfile)\n",
    "    return sm_area.rio.clip_box(7, 37, 18, 46.5, crs='EPSG:4326')\n"
   ]
  },
  {
   "cell_type": "code",
   "execution_count": null,
   "metadata": {},
   "outputs": [],
   "source": [
    "sm_sat_ = preprocess_ascat_sm(sm_sat_italy_summer_22, catchment_df)\n",
    "sm_sat_"
   ]
  },
  {
   "cell_type": "markdown",
   "metadata": {},
   "source": [
    "#### ERA-5 predicated Soil Moisture"
   ]
  },
  {
   "cell_type": "code",
   "execution_count": null,
   "metadata": {},
   "outputs": [],
   "source": [
    "def clip_dataset_to_extent(ds, geodf):\n",
    "    roi_extent = geodf.total_bounds\n",
    "    mask_lon = (ds.longitude >= roi_extent[0]) & (ds.longitude <= roi_extent[2])\n",
    "    mask_lat = (ds.latitude >= roi_extent[1]) & (ds.latitude <= roi_extent[3])\n",
    "    return ds.where(mask_lon & mask_lat, drop=True)\n",
    "\n",
    "sm_mdl_italy_summer_22 = clip_dataset_to_extent(sm_mdl_22, catchment_df)\n",
    "sm_mdl_mm = normalize(sm_mdl_italy_summer_22.resample(time='15D').mean('time'))\n",
    "sm_mdl_mm"
   ]
  },
  {
   "cell_type": "markdown",
   "metadata": {},
   "source": [
    "### run remote processing"
   ]
  },
  {
   "cell_type": "code",
   "execution_count": null,
   "metadata": {},
   "outputs": [],
   "source": [
    "sm_mdl_mm_ = mycluster.client[sm_mdl_mm.attrs[\"location\"]].compute(sm_mdl_mm, sync=True)\n",
    "sm_mdl_mm_"
   ]
  },
  {
   "cell_type": "markdown",
   "metadata": {},
   "source": [
    "#### Corine Land Cover"
   ]
  },
  {
   "cell_type": "code",
   "execution_count": null,
   "metadata": {},
   "outputs": [],
   "source": [
    "def preprocess_corine(lc: xr.DataArray) -> xr.DataArray:\n",
    "    steps = 500 // 100\n",
    "    downsampled = lc.coarsen({'latitude': steps, 'longitude': steps}, boundary='trim').median()\n",
    "    return downsampled.transpose('lc', 'latitude', 'longitude')\n"
   ]
  },
  {
   "cell_type": "code",
   "execution_count": null,
   "metadata": {
    "ExecuteTime": {
     "end_time": "2023-05-22T19:03:22.614088006Z",
     "start_time": "2023-05-22T19:03:07.251266791Z"
    }
   },
   "outputs": [],
   "source": [
    "lc = preprocess_corine(corine_italy)\n",
    "lc"
   ]
  },
  {
   "cell_type": "markdown",
   "metadata": {},
   "source": [
    "### run remote processing"
   ]
  },
  {
   "cell_type": "code",
   "execution_count": null,
   "metadata": {},
   "outputs": [],
   "source": [
    "lc_ = mycluster.client[lc.attrs[\"location\"]].compute(lc, sync=True)\n",
    "lc_"
   ]
  },
  {
   "attachments": {},
   "cell_type": "markdown",
   "metadata": {},
   "source": [
    "## Inspect Data\n",
    "\n",
    "The DEDL service provides functionality to quickly visualize the previously processed data. These features not only help to validate the queried data, and the applied data transformations, but also allows an assessment of the current situation of soil moisture with only minimal effort.  More so, it marks the starting point of exploratory data analysis signified by the formulation of hypotheses that can be quickly tested. With the available Sentinel-1 soil moisture data, the expert can easily spot that water stocks are already severely reduced in some regions, such as the Po Valley (Emilia-Romagna and Veneto) at the end of March 2022. More so, the CORINA land cover data suggests that reduced water tables are especially prevalent in areas with an extensive agricultural component. This raises the question how agricultural yield will fair if drought conditions prevail over the coming months.\n"
   ]
  },
  {
   "cell_type": "code",
   "execution_count": null,
   "metadata": {},
   "outputs": [],
   "source": [
    "from pathlib import Path\n",
    "from bokeh.models import FuncTickFormatter, FixedTicker, WheelZoomTool\n",
    "from holoviews import Image, DynamicMap, extension\n",
    "from matplotlib.colors import LinearSegmentedColormap\n",
    "extension('bokeh')\n",
    "\n",
    "wheel_zoom = WheelZoomTool(zoom_on_axis=False)\n",
    "zoom = dict(default_tools=[\"pan\", wheel_zoom])\n"
   ]
  },
  {
   "cell_type": "code",
   "execution_count": null,
   "metadata": {},
   "outputs": [],
   "source": [
    "def load_cmap(file: Path) -> LinearSegmentedColormap:\n",
    "    def to_hex_str(c_str: str) -> str:\n",
    "        r_s, g_s, b_s = c_str.split()\n",
    "        return f\"#{int(r_s):02x}{int(g_s):02x}{int(b_s):02x}\"\n",
    "\n",
    "    ct_lines = file.read().splitlines()\n",
    "    brn_yl_bu_colors = [to_hex_str(clr_str) for clr_str in ct_lines[:200]]\n",
    "    return LinearSegmentedColormap.from_list(\"\", brn_yl_bu_colors)\n",
    "\n",
    "\n",
    "def render_ascat_sm_date(sm_da: xr.DataArray, date, **kwargs) -> Image:\n",
    "    import pandas as pd\n",
    "    with s3_user.open(\"s3://dedl-user/colour-tables/ssm-continuous.ct\", 'rb') as f:\n",
    "        sm_ct = load_cmap(f)\n",
    "    color_opts = dict(\n",
    "        cmap=sm_ct,\n",
    "        clipping_colors={'NaN': 'rgba(0, 0, 0, 0)', 'min': 'rgba(0, 0, 0, 0)'},\n",
    "        colorbar=True\n",
    "    )\n",
    "    r = sm_da.sel({'time': date}, method='nearest').rename('SM')\n",
    "    return Image(r).redim.range(SM=(0, 1)).opts(**color_opts, **kwargs, xlabel=\"longitude\", ylabel=\"latitude\")\n",
    "\n",
    "def render_corine(lc_da: xr.DataArray, **kwargs):\n",
    "    import numpy as np\n",
    "    levels = list(range(1, 6))\n",
    "    colors = [\"#e6004d\", \"#ffff00\", \"#4dff00\", \"#a6a6ff\", \"#80f2e6\"]\n",
    "\n",
    "    # only major classes\n",
    "    lc_da_copy = lc_da.copy()\n",
    "    lc_da_copy.corine_lc.data = np.floor(lc_da_copy.corine_lc.data / 100)\n",
    "\n",
    "    formatter = FuncTickFormatter(code='''\n",
    "        return {1.0 : 'Artificial surfaces', 2.0 : 'Agricultural areas', 3.0 : 'Forest and seminatural areas', 4.0 : 'Wetlands', 5.0 : 'Water bodies'}    \n",
    "        [tick]'''\n",
    "                                  )\n",
    "    ticker = FixedTicker(ticks=levels)\n",
    "\n",
    "    color_opts = dict(\n",
    "        cmap=colors,\n",
    "        colorbar=True,\n",
    "        clipping_colors={'NaN': 'rgba(0, 0, 0, 0)'},\n",
    "        colorbar_opts={'ticker': ticker, 'formatter': formatter}\n",
    "    )\n",
    "    return Image(lc_da_copy['corine_lc'][0]).opts(**color_opts, **kwargs, **zoom, xlabel=\"longitude\", ylabel=\"latitude\")\n",
    " \n"
   ]
  },
  {
   "cell_type": "markdown",
   "metadata": {},
   "source": [
    "### reproject data"
   ]
  },
  {
   "cell_type": "code",
   "execution_count": null,
   "metadata": {},
   "outputs": [],
   "source": [
    "lc_reprojected = lc_.rio.write_crs('EPSG:4326').rio.reproject('EPSG:3857')"
   ]
  },
  {
   "cell_type": "code",
   "execution_count": null,
   "metadata": {
    "ExecuteTime": {
     "end_time": "2023-05-22T19:03:26.719829715Z",
     "start_time": "2023-05-22T19:03:26.581241180Z"
    }
   },
   "outputs": [],
   "source": [
    "sm_view = render_ascat_sm_date(sm_sat_, sm_sat_.time.values[0], width=600, height=500, title=\"A) Measured current state of soil moisture from ASCAT\")\n",
    "lc_view = render_corine(lc_reprojected, width=565, height=500, title=\"B) Land cover (CORINE 2018)\")\n",
    "sm_view + lc_view"
   ]
  },
  {
   "attachments": {},
   "cell_type": "markdown",
   "metadata": {},
   "source": [
    "*Fig 1 A) Current state (March 2022) of soil moisture based on ASCAT backscatter imaging B) CORINE Land Cover 2018.*\n",
    "\n",
    "## Predicting Drought\n",
    "\n",
    "The DEDL services provide also generic modelling components to enable an user-specific predictive assessment of future conditions. In this regard the water management expert is interested in the soil moisture content over the months starting at April and ending in August. "
   ]
  },
  {
   "cell_type": "code",
   "execution_count": null,
   "metadata": {},
   "outputs": [],
   "source": [
    "with s3_user.open(\"s3://dedl-user/colour-tables/ssm-continuous.ct\", 'rb') as f:\n",
    "        sm_ct = load_cmap(f)\n",
    "color_opts = dict(\n",
    "        cmap=sm_ct,\n",
    "        clipping_colors={'NaN': 'rgba(0, 0, 0, 0)', 'min': 'rgba(0, 0, 0, 0)'},\n",
    "        colorbar=True\n",
    "    )\n",
    "\n",
    "def render_era5l_swvl(sm_da: xr.DataArray, **kwargs) -> pn.Column:\n",
    "    import pandas as pd\n",
    "\n",
    "    class ERA5LSwvl1Explorer(pm.Parameterized):\n",
    "        month = pm.Selector([pd.to_datetime(t).date() for t in sm_da.time.values])\n",
    "\n",
    "        @pm.depends('month')\n",
    "        def sm(self):\n",
    "            r = sm_da.sel({'time': self.month}, method='nearest').rename('SM')\n",
    "            return Image(r).redim.range(SM=(0, 1)).opts(**color_opts, **kwargs, **zoom, xlabel=\"longitude\", ylabel=\"latitude\")\n",
    "\n",
    "        def map(self):\n",
    "            return DynamicMap(self.sm)\n",
    "\n",
    "    explorer = ERA5LSwvl1Explorer(name='')\n",
    "    time_slider = pn.widgets.DiscreteSlider.from_param(explorer.param.month, width=kwargs.get('width', 512))\n",
    "    return pn.Column(explorer.map(), time_slider)\n",
    "\n",
    "def render_era5l_swvl_grid(sm_da: xr.DataArray, date) -> Image:\n",
    "    r = sm_da.sel({'time': date}, method='nearest').rename('SM')\n",
    "    return Image(r).redim.range(SM=(0, 1)).opts(**color_opts, xlabel=\"longitude\", ylabel=\"latitude\",  width=600, height=500)"
   ]
  },
  {
   "cell_type": "markdown",
   "metadata": {},
   "source": [
    "### Reproject data"
   ]
  },
  {
   "cell_type": "code",
   "execution_count": null,
   "metadata": {},
   "outputs": [],
   "source": [
    "sm_mdl_mm_reprojected = sm_mdl_mm_.rio.reproject('EPSG:3857')"
   ]
  },
  {
   "cell_type": "code",
   "execution_count": null,
   "metadata": {
    "ExecuteTime": {
     "start_time": "2023-05-10T11:41:18.115310949Z"
    }
   },
   "outputs": [],
   "source": [
    "from holoviews import NdLayout\n",
    "months = sm_mdl_mm_reprojected.time.values\n",
    "image_container = {(m):render_era5l_swvl_grid(sm_mdl_mm_reprojected, m) for m in months}\n",
    "NdLayout = NdLayout(image_container, kdims=['Date'])\n",
    "NdLayout.cols(2)"
   ]
  },
  {
   "attachments": {},
   "cell_type": "markdown",
   "metadata": {},
   "source": [
    "*Fig 2 A) Predicted soil moisture for the months March upt August 2022 B) CORINE Land Cover 2018.*\n",
    "\n",
    "The model results (Fig 2) indicate that intensified drought can be expected for the six months following the beginning of this survey. Moreover the simulated results suggest that especially agricultural areas will be inflicted by drought.\n",
    "\n",
    "The water management expert uses this scenario to preemptively call on water preserving measures and estabelish rationing plans whilst identifying the most critical systems. Preserving measures can consist of changing to crops that are more well adapted to prolonged drought, which include drought adapted varieties of corn, wheat, and rice and already drough-tolerant soy. Alternatively, a reduction of hydro-electrical energy production could reduce consumption of water. Whereas proactive rationing can reduce the overall pressure on harvests by more effective spreading of water consumption restrictions over longer periods, which reduces the risk of total crop failure.\n",
    "\n",
    "The effectiveness of this survey relies on combining multiple data sources with high-performance computing, which are the core competencies of the DEDL services.\n",
    "\n",
    "## Retrospective Analysis of the DEDL Services \n",
    "\n",
    "The Italy drought event of 2022 severely affected water supply in the regions Emilia-Romagna and Veneto along the river Po. These regions are known for their high agricultural yields and a significant proportion of the European crop production takes place here. Estimates suggest that ~6 billion euro of produce were damaged during this particular drought event. Besides dwindling water supplies, low ground water levels caused saltwater intrusion into fresh water aquifers in some of the coastal regions. This compounding of effects resulted in water shortages and required water rationing at local administrative levels in Italy. Predicted future warming will likely exacerbate the frequency and severity of drought effect in the coming years and clearly stipulates the need for early warning systems as demonstrated here."
   ]
  },
  {
   "cell_type": "code",
   "execution_count": null,
   "metadata": {},
   "outputs": [],
   "source": [
    "def render_ascat_sm(sm_da: xr.DataArray, **kwargs) -> pn.Column:\n",
    "    import pandas as pd\n",
    "    with s3_user.open(\"s3://dedl-user/colour-tables/ssm-continuous.ct\", 'rb') as f:\n",
    "        sm_ct = load_cmap(f)\n",
    "    color_opts = dict(\n",
    "        cmap=sm_ct,\n",
    "        clipping_colors={'NaN': 'rgba(0, 0, 0, 0)', 'min': 'rgba(0, 0, 0, 0)'},\n",
    "        colorbar=True\n",
    "    )\n",
    "\n",
    "    class ASCATSMExplorer(pm.Parameterized):\n",
    "        month = pm.Selector([pd.to_datetime(t).date() for t in sm_da.time.values])\n",
    "\n",
    "        @pm.depends('month')\n",
    "        def sm(self):\n",
    "            r = sm_da.sel({'time': self.month}, method='nearest').rename('SM')\n",
    "            return Image(r).redim.range(SM=(0, 1)).opts(**color_opts, **kwargs, **zoom, xlabel=\"longitude\", ylabel=\"latitude\")\n",
    "\n",
    "        def map(self):\n",
    "            return DynamicMap(self.sm)\n",
    "\n",
    "    explorer = ASCATSMExplorer(name='')\n",
    "    time_slider = pn.widgets.DiscreteSlider.from_param(explorer.param.month, width=kwargs.get('width', 512))\n",
    "    return pn.Column(explorer.map(), time_slider)\n",
    "\n",
    "def render_ascat_sm_grid(sm_da: xr.DataArray, date) -> Image:\n",
    "    r = sm_da.sel({'time': date}, method='nearest').rename('SM')\n",
    "    return Image(r).redim.range(SM=(0, 1)).opts(**color_opts, xlabel=\"longitude\", ylabel=\"latitude\",  width=600, height=500)"
   ]
  },
  {
   "cell_type": "code",
   "execution_count": null,
   "metadata": {},
   "outputs": [],
   "source": [
    "from holoviews import NdLayout\n",
    "months = sm_sat_.time.values\n",
    "image_container = {(m):render_ascat_sm_grid(sm_sat_, m) for m in months}\n",
    "NdLayout_smobs = NdLayout(image_container, kdims=['Date'])\n",
    "NdLayout_smobs.cols(2)"
   ]
  },
  {
   "attachments": {},
   "cell_type": "markdown",
   "metadata": {},
   "source": [
    "*Fig 3 A) Retrospective analysis of soil moisture content over half a year following the initial assessment by the expert B) CORINE Land Cover 2018.*"
   ]
  },
  {
   "cell_type": "markdown",
   "metadata": {},
   "source": [
    "### Shutdown Dask Cluster to free up resources"
   ]
  },
  {
   "cell_type": "code",
   "execution_count": null,
   "metadata": {},
   "outputs": [],
   "source": [
    "mycluster.shutdown()"
   ]
  },
  {
   "cell_type": "code",
   "execution_count": null,
   "metadata": {},
   "outputs": [],
   "source": []
  }
 ],
 "metadata": {
  "kernelspec": {
   "display_name": "Python 3 (ipykernel)",
   "language": "python",
   "name": "python3"
  },
  "language_info": {
   "codemirror_mode": {
    "name": "ipython",
    "version": 3
   },
   "file_extension": ".py",
   "mimetype": "text/x-python",
   "name": "python",
   "nbconvert_exporter": "python",
   "pygments_lexer": "ipython3",
   "version": "3.11.3"
  }
 },
 "nbformat": 4,
 "nbformat_minor": 4
}
