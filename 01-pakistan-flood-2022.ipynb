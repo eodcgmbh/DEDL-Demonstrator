{
 "cells": [
  {
   "cell_type": "markdown",
   "metadata": {},
   "source": [
    "<img src=\"https://thediplomat.com/wp-content/uploads/2022/10/sizes/td-story-s-2/thediplomat_2022-10-19-193918.jpg\" style=\"width:50%; display: block; margin-left: auto; margin-right: auto\">\n",
    "<table style=\"width:50%\">\n",
    "    <tr>\n",
    "        <th><img src=\"data:image/png;base64,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\"></th>\n",
    "        <th><img src=\"https://eodc.eu/wp-content/uploads/2018/10/EODC-Logo-Final.png\"></th>\n",
    "    </tr>\n",
    "</table>"
   ]
  },
  {
   "cell_type": "markdown",
   "metadata": {},
   "source": [
    "# DestinE Data Lake\n",
    "\n",
    "The Destination Earth Data Lake (DEDL) combines such disparate data sources in one large virtual database. Moreover, this virtual database comes with a set of tools that facilitates the search for relevant resources as well as the analysis of data by performing computationally expensive operations near to the data source.\n",
    "\n",
    "This Jupyter Notebook serves as an example of how the DEDL service could have helped with a disaster response assessment during the 2022 Pakistan flood.\n",
    "\n",
    "## Infrastructure setup\n",
    "<img src=\"./DEDL-Flood-UC-setup.jpg\" style=\"width:75%; display: block; margin-left: auto; margin-right: auto\">"
   ]
  },
  {
   "cell_type": "markdown",
   "metadata": {},
   "source": [
    "# Use Case 1: Pakistan Flood 2022\n",
    "\n",
    "A disaster management expert is called to assess what the flood risk of the Indus River plain is if heavy rainfall continuous in the next days.\n",
    "\n",
    "To address this issue the expert has to access data from several resources, which includes sociographic information about human settlements as well as physical parameters such as rain intensity. Furthermore, model predictions help forecast forthcoming inundation of land. This multifaceted approach for flood risk mapping ensures efficient planning of mitigating measures, such as targeted evacuation plans. "
   ]
  },
  {
   "cell_type": "markdown",
   "metadata": {},
   "source": [
    "### Create Dask Clusters on Central Site and Bridge\n",
    "Make use of DEDL client library to create Dask cluster on each site registered in the DEDL.\n",
    "Default settings are:\n",
    "- Docker image used for Dask scheduler and workers\n",
    "- worker CPU and memory\n",
    "- enabled autoscaling"
   ]
  },
  {
   "cell_type": "code",
   "execution_count": null,
   "metadata": {},
   "outputs": [],
   "source": [
    "from dedl.services.stack import DaskCluster\n",
    "from dask_gateway import Gateway\n",
    "\n",
    "mycluster = DaskCluster(name=\"DEDLdemo\")\n",
    "user_auth = mycluster.login(username=\"christoph\")\n",
    "mycluster.create_cluster(authobj=user_auth)\n",
    "mycluster.get_cluster_url()"
   ]
  },
  {
   "cell_type": "markdown",
   "metadata": {},
   "source": [
    "## Access Data from DEDL Service\n",
    "\n",
    "Using the DEDL client, data can be accessed from various services. In this example, data is retrieved from the EU-funded Copernicus Emergency Management Service ([CEMS](https://extwiki.eodc.eu/en/GFM)), the European Centre for Medium-Range Weather Forecasts ([ECMWF](https://www.ecmwf.int/en/about)), the Copernicus Digital Elevation Model ([COP-DEM)](https://spacedata.copernicus.eu/en/web/guest/collections/copernicus-digital-elevation-model)) and the Global Human Settlement ([GHS](https://ghsl.jrc.ec.europa.eu/index.php)) layer. \n",
    "\n",
    "\n",
    "- The CEMS catalogue is used to obtain **Global Flood Monitoring (GFM)** data. The GFM data product is a worldwide flood monitoring system which consists of microwave imaging data and is acquired by EU’s Copernicus Sentinel-1 satellites. Microwave imaging is a technique that is relatively unaffected by cloud cover and is especially sensitive to variations in near surface water content. This type of data has been successively employed to monitor flooding. The binary data consists of daily measurement with a $20\\,\\text{m}$ by $20\\,\\text{m}$ spatial resolution which indicate whether a pixel has been flooded or not.\n",
    "- The ECMWF catalogue is used to obtain the multi-decadal **ERA5-Land** dataset. This product is a reanalysis dataset that gives insight in the seasonal variation of land variables by averaging data over multiple decades with a $9\\,\\text{km}$ spatial resolution. The ERA5-Land data is retrieved to estimate the risk of further flooding for next several days by aggregating precipitation on a $20\\,\\text{m}$ by $20\\,\\text{m}$ spatial grid. This dataset is for demonstration purposes only, and will be replaced with a high resolution rainfall prediction dataset in the future.\n",
    "- The **Copernicus DEM** data is used highlight the low-lying areas around the Indus river under the highest risk of flooding. This product consists of radar data acquired during the TanDEM-X mission between 2011 and 2015.\n",
    "- The **Global Human Settelment (GHS) layer** is used to make a risk assessment for flooding of regional settlements. THE GHS-BUILT-S data provides a yearly measure of built-up surfaces on a $10\\,\\text{m}$ by $10\\,\\text{m}$ spatial grid. The product is a composite dataset consisting of Landsat (MSS, TM, ETM sensor) and Sentinel-2 imaging and represents the square meters of built-up surface in a cell.\n",
    "\n",
    "Additionally, the DEDL service allows data uploads by the user. These capabilities of the DEDL services are examplified below."
   ]
  },
  {
   "cell_type": "code",
   "execution_count": null,
   "metadata": {
    "ExecuteTime": {
     "end_time": "2023-05-05T12:20:04.096582412Z",
     "start_time": "2023-05-05T12:20:03.748720359Z"
    }
   },
   "outputs": [],
   "source": [
    "import xarray as xr\n",
    "from usecase.parameters import Extent\n",
    "from dedl.services import discovery\n",
    "\n",
    "\n",
    "central_site_da = discovery.S3DataAccess(\"https://s3.dedl-centralsite.eodc.eu\")\n",
    "bridge_site_da = discovery.S3DataAccess(\"https://s3.dedl-bridge.eodc.eu\")\n",
    "\n",
    "xr.set_options(keep_attrs=True)\n",
    "roi_extent = Extent(65, 21, 71, 31, crs='EPSG:4326')    # Pakistan"
   ]
  },
  {
   "cell_type": "markdown",
   "metadata": {},
   "source": [
    "#### Read data located on central site\n",
    "Location will be stored as attribute in the xarray object after loading the data."
   ]
  },
  {
   "cell_type": "markdown",
   "metadata": {},
   "source": [
    "##### GFM data"
   ]
  },
  {
   "cell_type": "code",
   "execution_count": null,
   "metadata": {},
   "outputs": [],
   "source": [
    "floods_aug_18 = discovery.find_gfm_flood(\"2022-08-18\", roi_extent, S3Access=central_site_da)\n",
    "floods_aug_18"
   ]
  },
  {
   "cell_type": "markdown",
   "metadata": {},
   "source": [
    "##### GHS"
   ]
  },
  {
   "cell_type": "code",
   "execution_count": null,
   "metadata": {},
   "outputs": [],
   "source": [
    "built_surfaces = discovery.find_ghs_built(roi_extent, S3Access=central_site_da)\n",
    "built_surfaces"
   ]
  },
  {
   "cell_type": "markdown",
   "metadata": {},
   "source": [
    "#### Read data from data bridge"
   ]
  },
  {
   "cell_type": "markdown",
   "metadata": {},
   "source": [
    "##### ERA5-Land"
   ]
  },
  {
   "cell_type": "code",
   "execution_count": null,
   "metadata": {},
   "outputs": [],
   "source": [
    "from datetime import datetime\n",
    "predicted_rain = discovery.find_predicted_rain(startdate=datetime(2022, 8, 18),\n",
    "                                               enddate=datetime(2022, 8, 30),\n",
    "                                               extent=roi_extent,\n",
    "                                               S3Access=bridge_site_da)\n",
    "predicted_rain"
   ]
  },
  {
   "cell_type": "markdown",
   "metadata": {},
   "source": [
    "## Preprocess the Data\n",
    "First the data needs to be preprocessed for visualisation to improve interpretability and also reduce the raw data size for faster interaction with the data.\n",
    "\n",
    "This task is, however, computationally demanding and requires specialized IT infrastructure. The DEDL services are designed to cope with these computational limitations at the user's side by implementing distributed computation capabilities. This feature runs the task near to the source of the data. The user can therefore execute the script as if they would have performed it on their own local device (laptop, pc, or tablet). However, in reality, the computationally demanding tasks are executed at the high-performance computing facilities of DEDL."
   ]
  },
  {
   "cell_type": "code",
   "execution_count": null,
   "metadata": {},
   "outputs": [],
   "source": [
    "def preprocess_dataset(data_array: xr.DataArray, method: str):\n",
    "    data_array = data_array.squeeze()\n",
    "    steps = 500 // data_array.attrs[\"resolution\"]\n",
    "    coarsened = data_array.coarsen({'y': steps, 'x': steps}, boundary='trim')\n",
    "    if method == 'median':\n",
    "        data_array = (coarsened.median() > 0).astype('float32')\n",
    "    elif method == 'mean':\n",
    "        data_array = coarsened.mean()\n",
    "    else:\n",
    "        raise NotImplementedError(method)\n",
    "    return data_array"
   ]
  },
  {
   "cell_type": "code",
   "execution_count": null,
   "metadata": {
    "ExecuteTime": {
     "end_time": "2023-05-04T08:28:18.613438316Z",
     "start_time": "2023-05-04T08:28:09.882340978Z"
    }
   },
   "outputs": [],
   "source": [
    "floods_aug_18_prep = preprocess_dataset(floods_aug_18, 'median')"
   ]
  },
  {
   "cell_type": "code",
   "execution_count": null,
   "metadata": {},
   "outputs": [],
   "source": [
    "floods_aug_18_prep"
   ]
  },
  {
   "cell_type": "code",
   "execution_count": null,
   "metadata": {},
   "outputs": [],
   "source": [
    "def preprocess_dataset_noresampling(data_array: xr.DataArray, method: str):\n",
    "    data_array = data_array.squeeze()\n",
    "    #steps = 500 // data_array.attrs[\"resolution\"]\n",
    "    #coarsened = data_array.coarsen({'y': steps, 'x': steps}, boundary='trim')\n",
    "    if method == 'median':\n",
    "        data_array = (data_array.median() > 0).astype('float32')\n",
    "    elif method == 'mean':\n",
    "        data_array = data_array.mean()\n",
    "    else:\n",
    "        raise NotImplementedError(method)\n",
    "    return data_array"
   ]
  },
  {
   "cell_type": "code",
   "execution_count": null,
   "metadata": {},
   "outputs": [],
   "source": [
    "floods_aug_18_prep_nr = preprocess_dataset(floods_aug_18, 'median')"
   ]
  },
  {
   "cell_type": "code",
   "execution_count": null,
   "metadata": {},
   "outputs": [],
   "source": [
    "mycluster.cluster[floods_aug_18_prep.attrs[\"location\"]].scale(5)\n",
    "floods_aug_18_prep_nr = mycluster.client[floods_aug_18_prep.attrs[\"location\"]].persist(floods_aug_18_prep_nr)"
   ]
  },
  {
   "cell_type": "code",
   "execution_count": null,
   "metadata": {},
   "outputs": [],
   "source": [
    "floods_aug_18_prep_nr"
   ]
  },
  {
   "cell_type": "code",
   "execution_count": null,
   "metadata": {},
   "outputs": [],
   "source": [
    "import hvplot.dask\n",
    " \n",
    "def interact(darray):\n",
    "    import datashader\n",
    "    print(darray)\n",
    "    return darray.hvplot.image(x='x', \n",
    "                               y='y', \n",
    "                               z='flood',\n",
    "                               cmap='kbc_r',\n",
    "                               width=600, \n",
    "                               height=400)\n",
    "interact(floods_aug_18_prep_nr)"
   ]
  },
  {
   "cell_type": "code",
   "execution_count": null,
   "metadata": {},
   "outputs": [],
   "source": [
    "import s3fs\n",
    "s3_central = s3fs.S3FileSystem(\n",
    "        anon=False,\n",
    "        key='yc3tijUhz5wmHTkI',\n",
    "        secret='JVjyK8HYf8xdejSgKxUVytdcq0cVMHIA',\n",
    "        use_ssl=True,\n",
    "        client_kwargs={\n",
    "            'endpoint_url': \"https://s3.dedl-centralsite.eodc.eu\"\n",
    "        }\n",
    "    )\n",
    "floods_aug_18_zarr = floods_aug_18_prep_nr.to_zarr(store=s3fs.S3Map(root=f\"dedl-user/flood-20220818.zarr\", s3=s3_central, check=False),\n",
    "                                               mode=\"w\", compute=False)"
   ]
  },
  {
   "cell_type": "code",
   "execution_count": null,
   "metadata": {},
   "outputs": [],
   "source": [
    "mycluster.client[floods_aug_18_prep.attrs[\"location\"]].compute(floods_aug_18_zarr, sync=True)"
   ]
  },
  {
   "cell_type": "code",
   "execution_count": null,
   "metadata": {},
   "outputs": [],
   "source": [
    "floods_aug_18_ = mycluster.client[floods_aug_18_prep.attrs[\"location\"]].compute(floods_aug_18_prep, sync=True)"
   ]
  },
  {
   "cell_type": "code",
   "execution_count": null,
   "metadata": {},
   "outputs": [],
   "source": [
    " floods_aug_18_"
   ]
  },
  {
   "cell_type": "code",
   "execution_count": null,
   "metadata": {},
   "outputs": [],
   "source": [
    "import numpy as np\n",
    "floods_aug_18 = floods_aug_18_.rio.reproject(f\"EPSG:3857\", nodata=np.nan)\n",
    "floods_aug_18"
   ]
  },
  {
   "cell_type": "code",
   "execution_count": null,
   "metadata": {
    "ExecuteTime": {
     "end_time": "2023-05-04T08:28:58.616904531Z",
     "start_time": "2023-05-04T08:28:30.947401627Z"
    }
   },
   "outputs": [],
   "source": [
    "built_surfaces_prep = preprocess_dataset(built_surfaces, 'mean')\n",
    "built_surfaces_prep_ = mycluster.client[built_surfaces.attrs[\"location\"]].compute(built_surfaces_prep, sync=True)"
   ]
  },
  {
   "cell_type": "code",
   "execution_count": null,
   "metadata": {},
   "outputs": [],
   "source": [
    "built_surfaces_prep_"
   ]
  },
  {
   "cell_type": "markdown",
   "metadata": {},
   "source": [
    "## Inspect Data Flood Data\n",
    "\n",
    "The DEDL services provides a quick view functionality that allows interactive inspection of the retrieved datasets. Here, the flood extent on 18<sup>th</sup> of August 2022 is compared to built-up surfaces (e.g. buildings, infrastructure, and other human-made structures) for 2022 to get an initial idea of which settlements might be at risk of flooding."
   ]
  },
  {
   "cell_type": "code",
   "execution_count": null,
   "metadata": {},
   "outputs": [],
   "source": [
    "import xarray as xr\n",
    "from bokeh.models import CustomJSTickFormatter, FixedTicker\n",
    "from holoviews import Image, element, Curve, extension, DynamicMap\n",
    "\n",
    "extension('bokeh')\n",
    "\n",
    "def render_flood_and_built_extent(flood: xr.DataArray, built: xr.DataArray, colorbar=True, **kwargs) -> None:\n",
    "    built = built.rio.reproject_match(flood)\n",
    "    combined = xr.zeros_like(flood, dtype=flood.dtype)\n",
    "    combined.values = np.nanmax(np.stack([flood.values, ((built > 10) * 2).values]), axis=0)\n",
    "\n",
    "    formatter = CustomJSTickFormatter(code='''\n",
    "    return {0.33: 'other', 1.0 : 'flooded', 1.66 : 'built'}\n",
    "    [tick]\n",
    "    ''')\n",
    "    ticker = FixedTicker(ticks=[0.33, 1.0, 1.66])\n",
    "\n",
    "    color_opts = dict(\n",
    "        cmap=[\"#D3D3D3\", \"rgb(0, 0, 128)\", \"#FF0000\"],\n",
    "        clipping_colors={'NaN': 'rgba(0, 0, 0, 0)'},\n",
    "        colorbar=colorbar,\n",
    "        colorbar_opts={'ticker': ticker, 'formatter': formatter}\n",
    "    )\n",
    "\n",
    "    flood_view = Image(combined).opts(**color_opts, **kwargs, xlabel=\"longitude\", ylabel=\"latitude\")\n",
    "    street_view = element.tiles.StamenTonerRetina()\n",
    "    return flood_view * street_view.opts(alpha=0.3)\n",
    "\n",
    "def render_streetview(flood_view, **kwargs):\n",
    "    street_view = element.tiles.CartoLight()\n",
    "    return flood_view.opts(alpha=0, colorbar=False, **kwargs) * street_view"
   ]
  },
  {
   "cell_type": "code",
   "execution_count": null,
   "metadata": {
    "ExecuteTime": {
     "end_time": "2023-05-04T08:29:01.800143075Z",
     "start_time": "2023-05-04T08:29:01.105383474Z"
    }
   },
   "outputs": [],
   "source": [
    "floods_aug_18_view = render_flood_and_built_extent(floods_aug_18,\n",
    "                                                   built_surfaces_prep_,\n",
    "                                                   width=500, height=500,\n",
    "                                                   title=\"A) Flood 2022-08-18 01:25:50 (GFM) \\n & built-up surface 2022\")\n",
    "street_view =  render_streetview(floods_aug_18_view.Image.I.clone(), width=400, height=500, title=\"B) OpenStreetMap (CartoDB)\")\n",
    "floods_aug_18_view + street_view"
   ]
  },
  {
   "cell_type": "markdown",
   "metadata": {},
   "source": [
    "*Fig1: A) Flood extent on 18<sup>th</sup> of August 2022 (GFM) and B) elevation in meters above mean sealevel (COP-DEM).*"
   ]
  },
  {
   "cell_type": "markdown",
   "metadata": {},
   "source": [
    "## Predicting Rainfall\n",
    "\n",
    "The rainfall dataset provides information that can be used to predict flood risk for the following days. Unfortunately, the rainfall data comes in a different resolution and projection, hence the export uses an algorithm to match the rainfall data to the flood data.\n",
    "\n",
    "We will utilise the DEDL distributed processing platform again to perform the up-sampling algorithm developed by the University of Technology Vienna.\n",
    "\n",
    "The predicted rainfall accumulated on a $500\\,\\text{m}$ by $500\\,\\text{m}$ grid resolution is then calculated on DEDL, as follows:"
   ]
  },
  {
   "cell_type": "code",
   "execution_count": null,
   "metadata": {},
   "outputs": [],
   "source": [
    "def accum_rain_predictions(rain_data, startdate, enddate, extent):\n",
    "    rain_ = rain_data.sel(time=slice(startdate, enddate),\n",
    "                          latitude=slice(extent.max_y, extent.min_y),\n",
    "                          longitude=slice(extent.min_x, extent.max_x))\n",
    "    return rain_.cumsum(dim=\"time\", keep_attrs=True)*1000"
   ]
  },
  {
   "cell_type": "code",
   "execution_count": null,
   "metadata": {},
   "outputs": [],
   "source": [
    "acc_rain_ = accum_rain_predictions(predicted_rain, startdate=datetime(2022, 8, 18),\n",
    "                                                  enddate=datetime(2022, 8, 30),\n",
    "                                                  extent=roi_extent)"
   ]
  },
  {
   "cell_type": "code",
   "execution_count": null,
   "metadata": {},
   "outputs": [],
   "source": [
    "acc_rain_"
   ]
  },
  {
   "cell_type": "code",
   "execution_count": null,
   "metadata": {},
   "outputs": [],
   "source": [
    "acc_rain = mycluster.client[acc_rain_.attrs[\"location\"]].compute(acc_rain_, sync=True)"
   ]
  },
  {
   "cell_type": "code",
   "execution_count": null,
   "metadata": {},
   "outputs": [],
   "source": [
    "def acc_rain_reproject(rain):\n",
    "    from rasterio.enums import Resampling\n",
    "    rain.rio.write_nodata(0, inplace=True)\n",
    "    rain.rio.write_crs('EPSG:4326', inplace=True)\n",
    "    return rain.rio.reproject('EPSG:3857', resolution=500, resampling=Resampling.bilinear)\n",
    "\n",
    "acc_rain = acc_rain_reproject(acc_rain)"
   ]
  },
  {
   "cell_type": "markdown",
   "metadata": {},
   "source": [
    "## View forecast data"
   ]
  },
  {
   "cell_type": "markdown",
   "metadata": {},
   "source": [
    "The expert can again quickly view the results to investigate the forecast and make an informed decision about which cities risk flooding in the next days."
   ]
  },
  {
   "cell_type": "code",
   "execution_count": null,
   "metadata": {},
   "outputs": [],
   "source": [
    "from holoviews import Image, element, Curve, extension, DynamicMap\n",
    "import matplotlib.colors as clr\n",
    "import panel as pn\n",
    "\n",
    "max_rain = acc_rain.max().values.item()\n",
    "color_opts = dict(\n",
    "        cmap=clr.LinearSegmentedColormap.from_list('custom blue', ['#D3D3D3', '#000080'], N=256),\n",
    "        clipping_colors={'NaN': 'rgba(0, 0, 0, 0)', 'min': 'rgba(0, 0, 0, 0)'},\n",
    "        colorbar=True\n",
    ")\n",
    "forecasts = []\n",
    "for day in range(0,13):\n",
    "    forecasts.append(element.tiles.CartoLight() * Image(acc_rain[day,:]).redim.range(rain=(0, max_rain))\\\n",
    "                        .opts(**color_opts, xlabel=\"longitude\", ylabel=\"latitude\",\n",
    "                              width=500, height=500,\n",
    "                              alpha=0.9))\n",
    "pn.Row(floods_aug_18_view, forecasts[12])"
   ]
  },
  {
   "cell_type": "markdown",
   "metadata": {
    "jp-MarkdownHeadingCollapsed": true
   },
   "source": [
    "## Interactive plotting, currently not working"
   ]
  },
  {
   "cell_type": "code",
   "execution_count": null,
   "metadata": {},
   "outputs": [],
   "source": [
    "import matplotlib.colors as clr\n",
    "import pandas as pd\n",
    "import param as pm\n",
    "import panel as pn\n",
    "from holoviews import Image, element, Curve, extension, DynamicMap\n",
    "pn.extension()\n",
    "def render_rain_prediction(rain_da: xr.DataArray, dem: xr.DataArray, **kwargs):\n",
    "    color_opts = dict(\n",
    "        cmap=clr.LinearSegmentedColormap.from_list('custom blue', ['#D3D3D3', '#000080'], N=256),\n",
    "        clipping_colors={'NaN': 'rgba(0, 0, 0, 0)', 'min': 'rgba(0, 0, 0, 0)'},\n",
    "        colorbar=True\n",
    "    )\n",
    "\n",
    "    # background = dem.copy(deep=True)\n",
    "    # background = background.rio.reproject('EPSG:3857')\n",
    "    # ls = clr.LightSource(azdeg=315, altdeg=45)\n",
    "    # background.values[0] = ls.hillshade(background.values[0], vert_exag=0.001)\n",
    "    # bg_view = Image(background[0]).opts(colorbar=False, cmap='gray', clipping_colors={'NaN': '#999999'})\n",
    "\n",
    "    max_rain = rain_da.max().values.item()\n",
    "\n",
    "    class RainExplorer(pm.Parameterized):\n",
    "        time = pm.Selector([pd.to_datetime(t).date() for t in rain_da.time.values])\n",
    "\n",
    "        @pm.depends('time')\n",
    "        def rain(self):\n",
    "            r = rain_da.sel({'time': self.time}, method='nearest').rename('rain')\n",
    "            return Image(r).redim.range(rain=(0, max_rain))\\\n",
    "                .opts(**color_opts, **kwargs, xlabel=\"longitude\", ylabel=\"latitude\")\n",
    "\n",
    "        def map(self):\n",
    "            street_view = element.tiles.StamenTonerRetina()\n",
    "            #return bg_view * street_view.opts(alpha=0.3) * DynamicMap(self.rain).opts(alpha=0.6)\n",
    "            return street_view.opts(alpha=0.3) * DynamicMap(self.rain).opts(alpha=0.6)\n",
    "\n",
    "    explorer = RainExplorer(name='')\n",
    "    time_slider = pn.widgets.DiscreteSlider.from_param(explorer.param.time, width=kwargs.get('width', 512))\n",
    "    return pn.Column(explorer.map(), time_slider)"
   ]
  },
  {
   "cell_type": "code",
   "execution_count": null,
   "metadata": {
    "ExecuteTime": {
     "end_time": "2023-05-04T08:33:19.235209430Z",
     "start_time": "2023-05-04T08:33:19.228287299Z"
    }
   },
   "outputs": [],
   "source": [
    "rain_view = render_rain_prediction(acc_rain,\n",
    "                                   dem,\n",
    "                                   width=455,\n",
    "                                   height=500,\n",
    "                                   title=\"B) 12-day accumulated rain (mm)\")\n",
    "pn.Row(floods_aug_18_view, rain_view)"
   ]
  },
  {
   "cell_type": "markdown",
   "metadata": {},
   "source": [
    "*Fig 2: A) Predicted accumulated rain over a 12-day period after the 18<sup>th</sup> of August 2022 and B) elevation in meters above mean sealevel (COP-DEM).*\n",
    "\n",
    "The disaster management expert uses the predicted rain as a boundary condition for a surface water hydrological model (e.g. [SFINCS](https://www.deltares.nl/en/software-and-data/products/sfincs)) to forecast the extent of future flooding while e.g. considering river channel morphology and urban drainage networks. The expert decides that cities in the northwestern region of the investigated area are under the greatest risk of flooding, while cities in southeastern parts are under the least threat of flooding. This result is thus not only based on the extent of flooding on the 18<sup>th</sup> of August 2022, but also on the higher likelihood of continued flooding due to more intense rainfall in the following days.\n",
    "\n",
    "The effectiveness of this survey relies on combining multiple data sources with high-performance computing, which are the core competencies of the DEDL services.\n",
    "\n",
    "# What could have been done when we had this information?\n",
    "\n",
    "To validate the effectiveness of the simulated scenario we can evaluate the actual flood extent after 12 days. In the following figure (Fig 3), we can see that the areal extent of flooding dramatically increased in the low lying areas of the Indus Flood plan. The dramatic events unfolding during those days killed 1.739 people and displaced millions of people by destroying complete settlements (e.g. Shahdadkot). \n"
   ]
  },
  {
   "cell_type": "code",
   "execution_count": null,
   "metadata": {},
   "outputs": [],
   "source": [
    "floods_aug_30 = discovery.find_gfm_flood(\"2022-08-30\",roi_extent,S3Access=central_site_da)\n",
    "floods_aug_30"
   ]
  },
  {
   "cell_type": "code",
   "execution_count": null,
   "metadata": {},
   "outputs": [],
   "source": [
    "floods_aug_30_prep = preprocess_dataset(floods_aug_30, 'median')\n",
    "floods_aug_30_prep_ = mycluster.client[floods_aug_30_prep.attrs[\"location\"]].compute(floods_aug_30_prep, sync=True)"
   ]
  },
  {
   "cell_type": "code",
   "execution_count": null,
   "metadata": {},
   "outputs": [],
   "source": [
    "import numpy as np\n",
    "floods_aug_30_prep_ = floods_aug_30_prep_.rio.reproject(f\"EPSG:3857\", nodata=np.nan)"
   ]
  },
  {
   "cell_type": "code",
   "execution_count": null,
   "metadata": {},
   "outputs": [],
   "source": [
    "floods_aug_30_view = render_flood_and_built_extent(floods_aug_30_prep_,\n",
    "                                                   built_surfaces_prep_,\n",
    "                                                   width=500, height=500,\n",
    "                                                   title=\"C) Flood 2022-08-30 01:25:50 (GFM) \\n & built-up surface 2022\")\n",
    "floods_aug_18_view + floods_aug_30_view"
   ]
  },
  {
   "cell_type": "markdown",
   "metadata": {},
   "source": [
    "### Shutdown Dask Cluster to free up resources"
   ]
  },
  {
   "cell_type": "code",
   "execution_count": null,
   "metadata": {},
   "outputs": [],
   "source": [
    "mycluster.shutdown()"
   ]
  }
 ],
 "metadata": {
  "kernelspec": {
   "display_name": "Python 3 (ipykernel)",
   "language": "python",
   "name": "python3"
  },
  "language_info": {
   "codemirror_mode": {
    "name": "ipython",
    "version": 3
   },
   "file_extension": ".py",
   "mimetype": "text/x-python",
   "name": "python",
   "nbconvert_exporter": "python",
   "pygments_lexer": "ipython3",
   "version": "3.11.5"
  }
 },
 "nbformat": 4,
 "nbformat_minor": 4
}
